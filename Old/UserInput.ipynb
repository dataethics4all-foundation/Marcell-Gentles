{
 "cells": [
  {
   "cell_type": "code",
   "execution_count": 42,
   "metadata": {},
   "outputs": [],
   "source": [
    "max_results = 5\n",
    "username = input(\"Input username here: \")\n",
    "includingRetweets = True\n",
    "includingReplies = True\n"
   ]
  },
  {
   "cell_type": "code",
   "execution_count": 43,
   "metadata": {},
   "outputs": [],
   "source": [
    "import tweepy as tp"
   ]
  },
  {
   "cell_type": "code",
   "execution_count": 44,
   "metadata": {},
   "outputs": [
    {
     "name": "stdout",
     "output_type": "stream",
     "text": [
      "('@DailyLoud Drake ft in my leaked song https://t.co/6LAOSUMzZu', 1664415776105791489)\n",
      "('@DailyLoud I paid 100,000 for this demo https://t.co/6LAOSUMzZu', 1664413925327220736)\n",
      "('who can bring me a cheeseburger 🍔?', 1664413758729383943)\n",
      "('@_EricLamarBeatz Thank you 😊', 1664413382936522752)\n",
      "('@Reuters I leaked the audio https://t.co/6LAOSUMzZu', 1664413101964292098)\n"
     ]
    }
   ],
   "source": [
    "bearer_token = \"AAAAAAAAAAAAAAAAAAAAAAcblQEAAAAAtCqsQJwLtdMjU9olMpKT8mYnmjI%3D4707FKE1BToIY6TgtwgVzfNKAv7vohP1Uo3lDubgxwhUalWHi3\"\n",
    "client_ID = \"bjB6WHYzMlZhc3RYNF84Wlo0amM6MTpjaQ\"\n",
    "client_secret = \"-ZuUb0O6awVPBJLxGSVv7ezzt0PhxQjeMqaXh6JIJixiNKjGtl\"\n",
    "redirect_uri = \"https://troy.kli.ng/\"\n",
    "consumer_key = \"TUMFGbPsKwZ9UmOvJxjTNC2vo\"\n",
    "consumer_secret = \"pEzDJheRCGab7NG2phj5nnv7y6DovX4Ey9rfbHeqh7tv3t2ysY\"\n",
    "access_token = \"1615397853140242432-4gubCI7K70hryA84LHtAhmkXigRVAl\"\n",
    "access_token_secret = \"Z8JYzhlh5eiXkNy6q3oOY9SPEW7jFb62nLKuxf6FBmyGM\"\n",
    "\n",
    "#authentication\n",
    "#I have all of these ready to go here, but only ended up needing 'bearer_token'.\n",
    "\n",
    "client = tp.Client(bearer_token=bearer_token)\n",
    "\n",
    "ID = client.get_user(username= username).data.id\n",
    "\n",
    "def add_tweet(tweetData):\n",
    "    tweetList.append((tweetData.text, tweetData.id))\n",
    "\n",
    "def choose_exclusions(rt, rp):\n",
    "    l = []\n",
    "    if not rt:\n",
    "        l.append('retweets')\n",
    "    if not rp:\n",
    "        l.append('replies')\n",
    "    return l\n",
    "\n",
    "tweets = client.get_users_tweets(id=ID, max_results=max_results, exclude= choose_exclusions( \\\n",
    "    includingRetweets, includingReplies))\n",
    "\n",
    "tweetList = []\n",
    "\n",
    "for i in range(len(tweets.data)):\n",
    "    add_tweet(tweets.data[i])\n",
    "\n",
    "#eventually I'll want to turn this into a script with a function that\n",
    "#return tweetList\n",
    "\n",
    "#the following line was to check what was going into the list\n",
    "#for tweet in tweetList:\n",
    "#    print(tweet)"
   ]
  }
 ],
 "metadata": {
  "kernelspec": {
   "display_name": "SiAI",
   "language": "python",
   "name": "python3"
  },
  "language_info": {
   "codemirror_mode": {
    "name": "ipython",
    "version": 3
   },
   "file_extension": ".py",
   "mimetype": "text/x-python",
   "name": "python",
   "nbconvert_exporter": "python",
   "pygments_lexer": "ipython3",
   "version": "3.11.3"
  },
  "orig_nbformat": 4
 },
 "nbformat": 4,
 "nbformat_minor": 2
}
